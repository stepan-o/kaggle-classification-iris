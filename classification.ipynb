{
 "cells": [
  {
   "cell_type": "code",
   "execution_count": 6,
   "metadata": {},
   "outputs": [],
   "source": [
    "import numpy as np\n",
    "import time\n"
   ]
  },
  {
   "cell_type": "markdown",
   "metadata": {},
   "source": [
    "## Vectorization examples"
   ]
  },
  {
   "cell_type": "code",
   "execution_count": 2,
   "metadata": {},
   "outputs": [
    {
     "data": {
      "text/plain": [
       "array([1, 2, 3, 4])"
      ]
     },
     "execution_count": 2,
     "metadata": {},
     "output_type": "execute_result"
    }
   ],
   "source": [
    "a = np.array([1, 2, 3, 4])\n",
    "a"
   ]
  },
  {
   "cell_type": "code",
   "execution_count": 104,
   "metadata": {},
   "outputs": [
    {
     "name": "stdout",
     "output_type": "stream",
     "text": [
      "c = np.dot(a, b) = 249889.08546459093\n",
      "Vectorized version: 1.00112 milliseconds (ms).\n",
      "\n",
      "c += a[i] * b[i] for i=1 to len(a) = 249889.08546458537\n",
      "For loop version: 693.00199 milliseconds (ms).\n",
      "\n",
      "For loop takes 692 times longer when compared to vectorized version.\n"
     ]
    }
   ],
   "source": [
    "# a and b are two arrays (vectors) with 1'000'000 dimensions each\n",
    "# we want to find a weighted sum of all elements of a by all elements of b (dot product of two vectors)\n",
    "a = np.random.rand(1000000)\n",
    "b = np.random.rand(1000000)\n",
    "# vectorized version\n",
    "tic = time.time()\n",
    "c = np.dot(a, b)\n",
    "toc = time.time()\n",
    "vector_time = 1000 * (toc - tic)\n",
    "print(\"c = np.dot(a, b) =\", c)\n",
    "print(\"Vectorized version: {0:.5f} milliseconds (ms).\".format(vector_time))\n",
    "\n",
    "# for loop version\n",
    "tic = time.time()\n",
    "# c = 0\n",
    "# for i in np.arange(len(a)):\n",
    "#     c += a[i] * b[i]\n",
    "c = sum([a[i] * b[i] for i in np.arange(len(a))])\n",
    "toc = time.time()\n",
    "loop_time = 1000 * (toc - tic)\n",
    "print(\"\\nc += a[i] * b[i] for i=1 to len(a) =\", c)\n",
    "print(\"For loop version: {0:.5f} milliseconds (ms).\".format(loop_time))\n",
    "\n",
    "print(\"\\nFor loop takes {0:.0f} times longer when compared to vectorized version.\"\n",
    "      .format(loop_time / vector_time))\n"
   ]
  },
  {
   "cell_type": "code",
   "execution_count": 126,
   "metadata": {},
   "outputs": [
    {
     "ename": "TypeError",
     "evalue": "unsupported operand type(s) for +: 'int' and 'list'",
     "output_type": "error",
     "traceback": [
      "\u001b[1;31m---------------------------------------------------------------------------\u001b[0m",
      "\u001b[1;31mTypeError\u001b[0m                                 Traceback (most recent call last)",
      "\u001b[1;32m<ipython-input-126-6ce5dbf6a637>\u001b[0m in \u001b[0;36m<module>\u001b[1;34m\u001b[0m\n\u001b[0;32m     17\u001b[0m \u001b[0mtoc\u001b[0m \u001b[1;33m=\u001b[0m \u001b[0mtime\u001b[0m\u001b[1;33m.\u001b[0m\u001b[0mtime\u001b[0m\u001b[1;33m(\u001b[0m\u001b[1;33m)\u001b[0m\u001b[1;33m\u001b[0m\u001b[1;33m\u001b[0m\u001b[0m\n\u001b[0;32m     18\u001b[0m \u001b[0mloop_time\u001b[0m \u001b[1;33m=\u001b[0m \u001b[1;36m1000\u001b[0m \u001b[1;33m*\u001b[0m \u001b[1;33m(\u001b[0m\u001b[0mtoc\u001b[0m \u001b[1;33m-\u001b[0m \u001b[0mtic\u001b[0m\u001b[1;33m)\u001b[0m\u001b[1;33m\u001b[0m\u001b[1;33m\u001b[0m\u001b[0m\n\u001b[1;32m---> 19\u001b[1;33m \u001b[0mprint\u001b[0m\u001b[1;33m(\u001b[0m\u001b[1;34m\"Control: sum of all coordinates of u = {0}\"\u001b[0m\u001b[1;33m.\u001b[0m\u001b[0mformat\u001b[0m\u001b[1;33m(\u001b[0m\u001b[0msum\u001b[0m\u001b[1;33m(\u001b[0m\u001b[0mu\u001b[0m\u001b[1;33m)\u001b[0m\u001b[1;33m)\u001b[0m\u001b[1;33m)\u001b[0m\u001b[1;33m\u001b[0m\u001b[1;33m\u001b[0m\u001b[0m\n\u001b[0m\u001b[0;32m     20\u001b[0m \u001b[0mprint\u001b[0m\u001b[1;33m(\u001b[0m\u001b[1;34m\"For loop version: {0:.5f} milliseconds (ms)\"\u001b[0m\u001b[1;33m.\u001b[0m\u001b[0mformat\u001b[0m\u001b[1;33m(\u001b[0m\u001b[0mloop_time\u001b[0m\u001b[1;33m)\u001b[0m\u001b[1;33m)\u001b[0m\u001b[1;33m\u001b[0m\u001b[1;33m\u001b[0m\u001b[0m\n",
      "\u001b[1;31mTypeError\u001b[0m: unsupported operand type(s) for +: 'int' and 'list'"
     ]
    }
   ],
   "source": [
    "# A is a 1000 x 1000 matrix and v is a 1000-dimensional vector. \n",
    "# Vector u is the dot product of matrix A and vector v\n",
    "A = np.random.rand(1000, 1000)\n",
    "v = np.random.rand(1000)\n",
    "\n",
    "# vectorized version\n",
    "\n",
    "\n",
    "# for loop version\n",
    "# finding vector u from the definition of matrix multiplication: u[i] = sum_j A[i, j] * v[j]\n",
    "tic = time.time()\n",
    "# u = np.zeros((len(v), 1))\n",
    "# for i in np.arange(len(v)):\n",
    "#     for j in np.arange(len(v)):\n",
    "#         u[i] += A[i, j] * v[j]\n",
    "u = [[A[i, j] * v[j] for j in np.arange(len(v))] for i in np.arange(len(v))]\n",
    "toc = time.time()\n",
    "loop_time = 1000 * (toc - tic)\n",
    "print(\"Control: sum of all coordinates of u = {0}\".format(sum(u)))\n",
    "print(\"For loop version: {0:.5f} milliseconds (ms)\".format(loop_time))\n"
   ]
  },
  {
   "cell_type": "code",
   "execution_count": null,
   "metadata": {},
   "outputs": [],
   "source": []
  }
 ],
 "metadata": {
  "kernelspec": {
   "display_name": "Python 3",
   "language": "python",
   "name": "python3"
  },
  "language_info": {
   "codemirror_mode": {
    "name": "ipython",
    "version": 3
   },
   "file_extension": ".py",
   "mimetype": "text/x-python",
   "name": "python",
   "nbconvert_exporter": "python",
   "pygments_lexer": "ipython3",
   "version": "3.7.3"
  }
 },
 "nbformat": 4,
 "nbformat_minor": 2
}
